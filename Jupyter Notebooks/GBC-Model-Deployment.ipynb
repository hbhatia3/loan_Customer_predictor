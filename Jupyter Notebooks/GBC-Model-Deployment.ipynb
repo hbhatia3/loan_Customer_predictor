{
 "cells": [
  {
   "cell_type": "code",
   "execution_count": 1,
   "metadata": {},
   "outputs": [],
   "source": [
    "#Importing the libraries\n",
    "import numpy as np\n",
    "import matplotlib.pyplot as plt\n",
    "import pandas as pd\n",
    "from sklearn.model_selection import train_test_split, KFold, cross_val_score, GridSearchCV, StratifiedKFold\n",
    "import pickle"
   ]
  },
  {
   "cell_type": "code",
   "execution_count": 2,
   "metadata": {},
   "outputs": [],
   "source": [
    "import os\n",
    "os.chdir(r\"\") \n",
    "\n",
    "df = pd.read_csv('UniversalBank.csv')"
   ]
  },
  {
   "cell_type": "code",
   "execution_count": 3,
   "metadata": {},
   "outputs": [],
   "source": [
    "# We will find the mean of positive experience values for above ages and use it to replace\n",
    "\n",
    "# having -1 exp\n",
    "a = df[df['Experience'] == -1]['Age'].value_counts().index.tolist()\n",
    "x = df[df['Experience'] == -1]['Experience'].index.tolist()\n",
    "for i in x:\n",
    "    df.loc[i,'Experience'] = df[(df['Age'].isin(a)) & (df.Experience > 0)].Experience.mean()\n",
    "    \n",
    "    \n",
    "# having -2 exp\n",
    "b = df[df['Experience'] == -2]['Age'].value_counts().index.tolist()\n",
    "y = df[df['Experience'] == -2]['Experience'].index.tolist()\n",
    "for i in y:\n",
    "    df.loc[i,'Experience'] = df[(df['Age'].isin(b)) & (df.Experience > 0)].Experience.mean()\n",
    "    \n",
    "    \n",
    "# having -3 exp\n",
    "c = df[df['Experience'] == -3]['Age'].value_counts().index.tolist()\n",
    "z = df[df['Experience'] == -3]['Experience'].index.tolist()\n",
    "for i in z:\n",
    "    df.loc[i,'Experience'] = df[(df['Age'].isin(c)) & (df.Experience > 0)].Experience.mean()"
   ]
  },
  {
   "cell_type": "code",
   "execution_count": 4,
   "metadata": {},
   "outputs": [],
   "source": [
    "df.drop(columns=['ZIP Code','ID'], inplace=True)\n"
   ]
  },
  {
   "cell_type": "code",
   "execution_count": 5,
   "metadata": {},
   "outputs": [
    {
     "data": {
      "text/html": [
       "<div>\n",
       "<style scoped>\n",
       "    .dataframe tbody tr th:only-of-type {\n",
       "        vertical-align: middle;\n",
       "    }\n",
       "\n",
       "    .dataframe tbody tr th {\n",
       "        vertical-align: top;\n",
       "    }\n",
       "\n",
       "    .dataframe thead th {\n",
       "        text-align: right;\n",
       "    }\n",
       "</style>\n",
       "<table border=\"1\" class=\"dataframe\">\n",
       "  <thead>\n",
       "    <tr style=\"text-align: right;\">\n",
       "      <th></th>\n",
       "      <th>Age</th>\n",
       "      <th>Experience</th>\n",
       "      <th>Income</th>\n",
       "      <th>Education</th>\n",
       "      <th>Family</th>\n",
       "      <th>CreditCard</th>\n",
       "      <th>CCAvg</th>\n",
       "      <th>Online</th>\n",
       "      <th>Mortgage</th>\n",
       "      <th>Securities Account</th>\n",
       "      <th>CD Account</th>\n",
       "      <th>Personal Loan</th>\n",
       "    </tr>\n",
       "  </thead>\n",
       "  <tbody>\n",
       "    <tr>\n",
       "      <th>0</th>\n",
       "      <td>25</td>\n",
       "      <td>1.0</td>\n",
       "      <td>49</td>\n",
       "      <td>1</td>\n",
       "      <td>4</td>\n",
       "      <td>0</td>\n",
       "      <td>1.6</td>\n",
       "      <td>0</td>\n",
       "      <td>0</td>\n",
       "      <td>1</td>\n",
       "      <td>0</td>\n",
       "      <td>0</td>\n",
       "    </tr>\n",
       "    <tr>\n",
       "      <th>1</th>\n",
       "      <td>45</td>\n",
       "      <td>19.0</td>\n",
       "      <td>34</td>\n",
       "      <td>1</td>\n",
       "      <td>3</td>\n",
       "      <td>0</td>\n",
       "      <td>1.5</td>\n",
       "      <td>0</td>\n",
       "      <td>0</td>\n",
       "      <td>1</td>\n",
       "      <td>0</td>\n",
       "      <td>0</td>\n",
       "    </tr>\n",
       "    <tr>\n",
       "      <th>2</th>\n",
       "      <td>39</td>\n",
       "      <td>15.0</td>\n",
       "      <td>11</td>\n",
       "      <td>1</td>\n",
       "      <td>1</td>\n",
       "      <td>0</td>\n",
       "      <td>1.0</td>\n",
       "      <td>0</td>\n",
       "      <td>0</td>\n",
       "      <td>0</td>\n",
       "      <td>0</td>\n",
       "      <td>0</td>\n",
       "    </tr>\n",
       "    <tr>\n",
       "      <th>3</th>\n",
       "      <td>35</td>\n",
       "      <td>9.0</td>\n",
       "      <td>100</td>\n",
       "      <td>2</td>\n",
       "      <td>1</td>\n",
       "      <td>0</td>\n",
       "      <td>2.7</td>\n",
       "      <td>0</td>\n",
       "      <td>0</td>\n",
       "      <td>0</td>\n",
       "      <td>0</td>\n",
       "      <td>0</td>\n",
       "    </tr>\n",
       "    <tr>\n",
       "      <th>4</th>\n",
       "      <td>35</td>\n",
       "      <td>8.0</td>\n",
       "      <td>45</td>\n",
       "      <td>2</td>\n",
       "      <td>4</td>\n",
       "      <td>1</td>\n",
       "      <td>1.0</td>\n",
       "      <td>0</td>\n",
       "      <td>0</td>\n",
       "      <td>0</td>\n",
       "      <td>0</td>\n",
       "      <td>0</td>\n",
       "    </tr>\n",
       "  </tbody>\n",
       "</table>\n",
       "</div>"
      ],
      "text/plain": [
       "   Age  Experience  Income  Education  Family  CreditCard  CCAvg  Online  \\\n",
       "0   25         1.0      49          1       4           0    1.6       0   \n",
       "1   45        19.0      34          1       3           0    1.5       0   \n",
       "2   39        15.0      11          1       1           0    1.0       0   \n",
       "3   35         9.0     100          2       1           0    2.7       0   \n",
       "4   35         8.0      45          2       4           1    1.0       0   \n",
       "\n",
       "   Mortgage  Securities Account  CD Account  Personal Loan  \n",
       "0         0                   1           0              0  \n",
       "1         0                   1           0              0  \n",
       "2         0                   0           0              0  \n",
       "3         0                   0           0              0  \n",
       "4         0                   0           0              0  "
      ]
     },
     "execution_count": 5,
     "metadata": {},
     "output_type": "execute_result"
    }
   ],
   "source": [
    "#rearranging columns\n",
    "\n",
    "df = df.loc[:,['Age', 'Experience', 'Income', 'Education', 'Family', 'CreditCard', 'CCAvg', 'Online',\n",
    "       'Mortgage', 'Securities Account', 'CD Account','Personal Loan']]\n",
    "df.head()"
   ]
  },
  {
   "cell_type": "code",
   "execution_count": 6,
   "metadata": {},
   "outputs": [],
   "source": [
    "#We will use experience column and not use age column as both are highly correlated\n",
    "\n",
    "x = df.iloc[:,1:11]\n",
    "y = df.iloc[:,-1]"
   ]
  },
  {
   "cell_type": "code",
   "execution_count": 7,
   "metadata": {},
   "outputs": [],
   "source": [
    "from sklearn.ensemble import GradientBoostingClassifier\n",
    "# parameter grid\n",
    "param_grid = {\"learning_rate\": [0.3, 0.6, 0.9],\n",
    "              \"subsample\": [0.3, 0.6, 0.9],\n",
    "              \"max_depth\": [3,6,9],\n",
    "              \"max_features\": [3,6,9],\n",
    "              \"min_samples_leaf\": range(1, 5),\n",
    "              \"min_samples_split\": [3,6,9],\n",
    "              \"random_state\": [5]\n",
    "             }\n",
    "\n",
    "\n",
    "GBC = GradientBoostingClassifier(max_depth=2, n_estimators=200)"
   ]
  },
  {
   "cell_type": "code",
   "execution_count": 8,
   "metadata": {},
   "outputs": [],
   "source": [
    "# run grid search\n",
    "folds = 10\n",
    "grid_search_GBC = GridSearchCV(GBC, \n",
    "                               cv = folds,\n",
    "                               param_grid=param_grid, \n",
    "                               return_train_score=True,                         \n",
    "                               verbose = 1,\n",
    "                               scoring = 'recall',\n",
    "                               n_jobs= -1)\n",
    "\n"
   ]
  },
  {
   "cell_type": "code",
   "execution_count": 9,
   "metadata": {},
   "outputs": [
    {
     "name": "stdout",
     "output_type": "stream",
     "text": [
      "Fitting 10 folds for each of 972 candidates, totalling 9720 fits\n"
     ]
    },
    {
     "name": "stderr",
     "output_type": "stream",
     "text": [
      "[Parallel(n_jobs=-1)]: Using backend LokyBackend with 8 concurrent workers.\n",
      "[Parallel(n_jobs=-1)]: Done  34 tasks      | elapsed:    4.7s\n",
      "[Parallel(n_jobs=-1)]: Done 184 tasks      | elapsed:   20.5s\n",
      "[Parallel(n_jobs=-1)]: Done 434 tasks      | elapsed:   52.0s\n",
      "[Parallel(n_jobs=-1)]: Done 784 tasks      | elapsed:  1.7min\n",
      "[Parallel(n_jobs=-1)]: Done 1234 tasks      | elapsed:  3.2min\n",
      "[Parallel(n_jobs=-1)]: Done 1784 tasks      | elapsed:  5.5min\n",
      "[Parallel(n_jobs=-1)]: Done 2434 tasks      | elapsed: 10.0min\n",
      "[Parallel(n_jobs=-1)]: Done 3184 tasks      | elapsed: 16.6min\n",
      "[Parallel(n_jobs=-1)]: Done 4034 tasks      | elapsed: 19.2min\n",
      "[Parallel(n_jobs=-1)]: Done 4984 tasks      | elapsed: 23.3min\n",
      "[Parallel(n_jobs=-1)]: Done 6034 tasks      | elapsed: 30.7min\n",
      "[Parallel(n_jobs=-1)]: Done 7184 tasks      | elapsed: 36.7min\n",
      "[Parallel(n_jobs=-1)]: Done 8434 tasks      | elapsed: 42.6min\n",
      "[Parallel(n_jobs=-1)]: Done 9720 out of 9720 | elapsed: 53.0min finished\n"
     ]
    },
    {
     "data": {
      "text/plain": [
       "GridSearchCV(cv=10,\n",
       "             estimator=GradientBoostingClassifier(max_depth=2,\n",
       "                                                  n_estimators=200),\n",
       "             n_jobs=-1,\n",
       "             param_grid={'learning_rate': [0.3, 0.6, 0.9],\n",
       "                         'max_depth': [3, 6, 9], 'max_features': [3, 6, 9],\n",
       "                         'min_samples_leaf': range(1, 5),\n",
       "                         'min_samples_split': [3, 6, 9], 'random_state': [5],\n",
       "                         'subsample': [0.3, 0.6, 0.9]},\n",
       "             return_train_score=True, scoring='recall', verbose=1)"
      ]
     },
     "execution_count": 9,
     "metadata": {},
     "output_type": "execute_result"
    }
   ],
   "source": [
    "grid_search_GBC.fit(x,y)"
   ]
  },
  {
   "cell_type": "code",
   "execution_count": 10,
   "metadata": {},
   "outputs": [],
   "source": [
    "GBC = grid_search_GBC.best_estimator_"
   ]
  },
  {
   "cell_type": "code",
   "execution_count": 11,
   "metadata": {},
   "outputs": [
    {
     "data": {
      "text/plain": [
       "GradientBoostingClassifier(learning_rate=0.3, max_features=6,\n",
       "                           min_samples_leaf=4, min_samples_split=9,\n",
       "                           n_estimators=200, random_state=5, subsample=0.9)"
      ]
     },
     "execution_count": 11,
     "metadata": {},
     "output_type": "execute_result"
    }
   ],
   "source": [
    "GBC.fit(x, y)"
   ]
  },
  {
   "cell_type": "code",
   "execution_count": 12,
   "metadata": {},
   "outputs": [],
   "source": [
    "pickle.dump(GBC, open('model.pkl','wb'))\n"
   ]
  },
  {
   "cell_type": "code",
   "execution_count": 16,
   "metadata": {},
   "outputs": [
    {
     "name": "stdout",
     "output_type": "stream",
     "text": [
      "[1]\n"
     ]
    }
   ],
   "source": [
    "# Loading model to compare the results\n",
    "model = pickle.load(open('model.pkl','rb'))\n",
    "print(model.predict([[10, 120, 2, 2, 1, 3, 1, 0, 0, 1]]))"
   ]
  },
  {
   "cell_type": "code",
   "execution_count": null,
   "metadata": {},
   "outputs": [],
   "source": []
  }
 ],
 "metadata": {
  "kernelspec": {
   "display_name": "Python 3",
   "language": "python",
   "name": "python3"
  },
  "language_info": {
   "codemirror_mode": {
    "name": "ipython",
    "version": 3
   },
   "file_extension": ".py",
   "mimetype": "text/x-python",
   "name": "python",
   "nbconvert_exporter": "python",
   "pygments_lexer": "ipython3",
   "version": "3.7.4"
  }
 },
 "nbformat": 4,
 "nbformat_minor": 2
}
